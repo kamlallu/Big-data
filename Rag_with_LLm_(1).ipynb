{
  "cells": [
    {
      "cell_type": "markdown",
      "metadata": {
        "id": "view-in-github",
        "colab_type": "text"
      },
      "source": [
        "<a href=\"https://colab.research.google.com/github/kamlallu/EDA/blob/main/Rag_with_LLm_(1).ipynb\" target=\"_parent\"><img src=\"https://colab.research.google.com/assets/colab-badge.svg\" alt=\"Open In Colab\"/></a>"
      ]
    },
    {
      "cell_type": "code",
      "execution_count": null,
      "id": "1877bb33",
      "metadata": {
        "id": "1877bb33",
        "outputId": "ca009c95-a610-406a-a46c-7cf93c4c9504"
      },
      "outputs": [
        {
          "name": "stdout",
          "output_type": "stream",
          "text": [
            "Note: you may need to restart the kernel to use updated packages.Requirement already satisfied: transformers in c:\\users\\priya_0yiyr9i\\anaconda3\\lib\\site-packages (4.42.4)\n",
            "Requirement already satisfied: faiss-cpu in c:\\users\\priya_0yiyr9i\\anaconda3\\lib\\site-packages (1.8.0.post1)\n",
            "Requirement already satisfied: sentence-transformers in c:\\users\\priya_0yiyr9i\\anaconda3\\lib\\site-packages (3.0.1)\n",
            "Requirement already satisfied: PyPDF2 in c:\\users\\priya_0yiyr9i\\anaconda3\\lib\\site-packages (3.0.1)\n",
            "Requirement already satisfied: filelock in c:\\users\\priya_0yiyr9i\\anaconda3\\lib\\site-packages (from transformers) (3.9.0)\n",
            "Requirement already satisfied: huggingface-hub<1.0,>=0.23.2 in c:\\users\\priya_0yiyr9i\\appdata\\roaming\\python\\python310\\site-packages (from transformers) (0.23.4)\n",
            "Requirement already satisfied: numpy<2.0,>=1.17 in c:\\users\\priya_0yiyr9i\\anaconda3\\lib\\site-packages (from transformers) (1.23.5)\n",
            "Requirement already satisfied: packaging>=20.0 in c:\\users\\priya_0yiyr9i\\anaconda3\\lib\\site-packages (from transformers) (24.1)\n",
            "Requirement already satisfied: pyyaml>=5.1 in c:\\users\\priya_0yiyr9i\\anaconda3\\lib\\site-packages (from transformers) (6.0)\n",
            "Requirement already satisfied: regex!=2019.12.17 in c:\\users\\priya_0yiyr9i\\anaconda3\\lib\\site-packages (from transformers) (2022.7.9)\n",
            "Requirement already satisfied: requests in c:\\users\\priya_0yiyr9i\\anaconda3\\lib\\site-packages (from transformers) (2.32.3)\n",
            "Requirement already satisfied: safetensors>=0.4.1 in c:\\users\\priya_0yiyr9i\\anaconda3\\lib\\site-packages (from transformers) (0.4.3)\n",
            "Requirement already satisfied: tokenizers<0.20,>=0.19 in c:\\users\\priya_0yiyr9i\\anaconda3\\lib\\site-packages (from transformers) (0.19.1)\n",
            "Requirement already satisfied: tqdm>=4.27 in c:\\users\\priya_0yiyr9i\\anaconda3\\lib\\site-packages (from transformers) (4.66.4)\n",
            "Requirement already satisfied: torch>=1.11.0 in c:\\users\\priya_0yiyr9i\\anaconda3\\lib\\site-packages (from sentence-transformers) (1.12.1)\n",
            "Requirement already satisfied: scikit-learn in c:\\users\\priya_0yiyr9i\\anaconda3\\lib\\site-packages (from sentence-transformers) (1.2.1)\n",
            "Requirement already satisfied: scipy in c:\\users\\priya_0yiyr9i\\anaconda3\\lib\\site-packages (from sentence-transformers) (1.10.0)\n",
            "Requirement already satisfied: Pillow in c:\\users\\priya_0yiyr9i\\anaconda3\\lib\\site-packages (from sentence-transformers) (9.4.0)\n",
            "Requirement already satisfied: fsspec>=2023.5.0 in c:\\users\\priya_0yiyr9i\\appdata\\roaming\\python\\python310\\site-packages (from huggingface-hub<1.0,>=0.23.2->transformers) (2024.5.0)\n",
            "Requirement already satisfied: typing-extensions>=3.7.4.3 in c:\\users\\priya_0yiyr9i\\anaconda3\\lib\\site-packages (from huggingface-hub<1.0,>=0.23.2->transformers) (4.12.1)\n",
            "Requirement already satisfied: colorama in c:\\users\\priya_0yiyr9i\\anaconda3\\lib\\site-packages (from tqdm>=4.27->transformers) (0.4.6)\n",
            "Requirement already satisfied: charset-normalizer<4,>=2 in c:\\users\\priya_0yiyr9i\\anaconda3\\lib\\site-packages (from requests->transformers) (2.0.4)\n",
            "Requirement already satisfied: idna<4,>=2.5 in c:\\users\\priya_0yiyr9i\\anaconda3\\lib\\site-packages (from requests->transformers) (2.10)\n",
            "Requirement already satisfied: urllib3<3,>=1.21.1 in c:\\users\\priya_0yiyr9i\\anaconda3\\lib\\site-packages (from requests->transformers) (1.26.14)\n",
            "Requirement already satisfied: certifi>=2017.4.17 in c:\\users\\priya_0yiyr9i\\anaconda3\\lib\\site-packages (from requests->transformers) (2023.7.22)\n",
            "Requirement already satisfied: joblib>=1.1.1 in c:\\users\\priya_0yiyr9i\\anaconda3\\lib\\site-packages (from scikit-learn->sentence-transformers) (1.1.1)\n",
            "Requirement already satisfied: threadpoolctl>=2.0.0 in c:\\users\\priya_0yiyr9i\\anaconda3\\lib\\site-packages (from scikit-learn->sentence-transformers) (2.2.0)\n",
            "\n"
          ]
        },
        {
          "name": "stderr",
          "output_type": "stream",
          "text": [
            "\n",
            "[notice] A new release of pip is available: 24.1.1 -> 24.1.2\n",
            "[notice] To update, run: python.exe -m pip install --upgrade pip\n"
          ]
        }
      ],
      "source": [
        "pip install transformers faiss-cpu sentence-transformers PyPDF2"
      ]
    },
    {
      "cell_type": "code",
      "execution_count": null,
      "id": "e9732335",
      "metadata": {
        "id": "e9732335",
        "outputId": "af8cb177-2fc6-4d35-b1e2-45a0c0f33c9e"
      },
      "outputs": [
        {
          "name": "stdout",
          "output_type": "stream",
          "text": [
            "Requirement already satisfied: PyMuPDF in c:\\users\\priya_0yiyr9i\\anaconda3\\lib\\site-packages (1.24.7)\n",
            "Requirement already satisfied: PyMuPDFb==1.24.6 in c:\\users\\priya_0yiyr9i\\anaconda3\\lib\\site-packages (from PyMuPDF) (1.24.6)\n",
            "Note: you may need to restart the kernel to use updated packages.\n"
          ]
        },
        {
          "name": "stderr",
          "output_type": "stream",
          "text": [
            "\n",
            "[notice] A new release of pip is available: 24.1.1 -> 24.1.2\n",
            "[notice] To update, run: python.exe -m pip install --upgrade pip\n"
          ]
        }
      ],
      "source": [
        "pip install PyMuPDF"
      ]
    },
    {
      "cell_type": "code",
      "execution_count": null,
      "id": "a549a2ad",
      "metadata": {
        "id": "a549a2ad",
        "outputId": "cf698250-67b3-448c-9415-09215a80b98a"
      },
      "outputs": [
        {
          "name": "stdout",
          "output_type": "stream",
          "text": [
            "Note: you may need to restart the kernel to use updated packages.Requirement already satisfied: sentencepiece in c:\\users\\priya_0yiyr9i\\anaconda3\\lib\\site-packages (0.2.0)\n",
            "\n"
          ]
        },
        {
          "name": "stderr",
          "output_type": "stream",
          "text": [
            "\n",
            "[notice] A new release of pip is available: 24.1.1 -> 24.1.2\n",
            "[notice] To update, run: python.exe -m pip install --upgrade pip\n"
          ]
        }
      ],
      "source": [
        "pip install sentencepiece"
      ]
    },
    {
      "cell_type": "code",
      "execution_count": null,
      "id": "eaab83b0",
      "metadata": {
        "id": "eaab83b0",
        "outputId": "dda00c2f-46dc-4c8e-870d-1433ee253534"
      },
      "outputs": [
        {
          "name": "stdout",
          "output_type": "stream",
          "text": [
            "Collecting langchain-communityNote: you may need to restart the kernel to use updated packages.\n"
          ]
        },
        {
          "name": "stderr",
          "output_type": "stream",
          "text": [
            "\n",
            "[notice] A new release of pip is available: 24.1.1 -> 24.1.2\n",
            "[notice] To update, run: python.exe -m pip install --upgrade pip\n"
          ]
        },
        {
          "name": "stdout",
          "output_type": "stream",
          "text": [
            "\n",
            "  Downloading langchain_community-0.2.7-py3-none-any.whl.metadata (2.5 kB)\n",
            "Requirement already satisfied: PyYAML>=5.3 in c:\\users\\priya_0yiyr9i\\anaconda3\\lib\\site-packages (from langchain-community) (6.0)\n",
            "Requirement already satisfied: SQLAlchemy<3,>=1.4 in c:\\users\\priya_0yiyr9i\\anaconda3\\lib\\site-packages (from langchain-community) (1.4.39)\n",
            "Requirement already satisfied: aiohttp<4.0.0,>=3.8.3 in c:\\users\\priya_0yiyr9i\\appdata\\roaming\\python\\python310\\site-packages (from langchain-community) (3.9.5)\n",
            "Collecting dataclasses-json<0.7,>=0.5.7 (from langchain-community)\n",
            "  Downloading dataclasses_json-0.6.7-py3-none-any.whl.metadata (25 kB)\n",
            "Requirement already satisfied: langchain<0.3.0,>=0.2.7 in c:\\users\\priya_0yiyr9i\\anaconda3\\lib\\site-packages (from langchain-community) (0.2.8)\n",
            "Requirement already satisfied: langchain-core<0.3.0,>=0.2.12 in c:\\users\\priya_0yiyr9i\\anaconda3\\lib\\site-packages (from langchain-community) (0.2.20)\n",
            "Requirement already satisfied: langsmith<0.2.0,>=0.1.0 in c:\\users\\priya_0yiyr9i\\anaconda3\\lib\\site-packages (from langchain-community) (0.1.88)\n",
            "Requirement already satisfied: numpy<2,>=1 in c:\\users\\priya_0yiyr9i\\anaconda3\\lib\\site-packages (from langchain-community) (1.23.5)\n",
            "Requirement already satisfied: requests<3,>=2 in c:\\users\\priya_0yiyr9i\\anaconda3\\lib\\site-packages (from langchain-community) (2.32.3)\n",
            "Requirement already satisfied: tenacity!=8.4.0,<9.0.0,>=8.1.0 in c:\\users\\priya_0yiyr9i\\anaconda3\\lib\\site-packages (from langchain-community) (8.2.3)\n",
            "Requirement already satisfied: aiosignal>=1.1.2 in c:\\users\\priya_0yiyr9i\\appdata\\roaming\\python\\python310\\site-packages (from aiohttp<4.0.0,>=3.8.3->langchain-community) (1.3.1)\n",
            "Requirement already satisfied: attrs>=17.3.0 in c:\\users\\priya_0yiyr9i\\anaconda3\\lib\\site-packages (from aiohttp<4.0.0,>=3.8.3->langchain-community) (23.2.0)\n",
            "Requirement already satisfied: frozenlist>=1.1.1 in c:\\users\\priya_0yiyr9i\\appdata\\roaming\\python\\python310\\site-packages (from aiohttp<4.0.0,>=3.8.3->langchain-community) (1.4.1)\n",
            "Requirement already satisfied: multidict<7.0,>=4.5 in c:\\users\\priya_0yiyr9i\\appdata\\roaming\\python\\python310\\site-packages (from aiohttp<4.0.0,>=3.8.3->langchain-community) (6.0.5)\n",
            "Requirement already satisfied: yarl<2.0,>=1.0 in c:\\users\\priya_0yiyr9i\\appdata\\roaming\\python\\python310\\site-packages (from aiohttp<4.0.0,>=3.8.3->langchain-community) (1.9.4)\n",
            "Requirement already satisfied: async-timeout<5.0,>=4.0 in c:\\users\\priya_0yiyr9i\\appdata\\roaming\\python\\python310\\site-packages (from aiohttp<4.0.0,>=3.8.3->langchain-community) (4.0.3)\n",
            "Collecting marshmallow<4.0.0,>=3.18.0 (from dataclasses-json<0.7,>=0.5.7->langchain-community)\n",
            "  Downloading marshmallow-3.21.3-py3-none-any.whl.metadata (7.1 kB)\n",
            "Collecting typing-inspect<1,>=0.4.0 (from dataclasses-json<0.7,>=0.5.7->langchain-community)\n",
            "  Downloading typing_inspect-0.9.0-py3-none-any.whl.metadata (1.5 kB)\n",
            "Requirement already satisfied: langchain-text-splitters<0.3.0,>=0.2.0 in c:\\users\\priya_0yiyr9i\\anaconda3\\lib\\site-packages (from langchain<0.3.0,>=0.2.7->langchain-community) (0.2.2)\n",
            "Requirement already satisfied: pydantic<3,>=1 in c:\\users\\priya_0yiyr9i\\anaconda3\\lib\\site-packages (from langchain<0.3.0,>=0.2.7->langchain-community) (1.10.12)\n",
            "Requirement already satisfied: jsonpatch<2.0,>=1.33 in c:\\users\\priya_0yiyr9i\\anaconda3\\lib\\site-packages (from langchain-core<0.3.0,>=0.2.12->langchain-community) (1.33)\n",
            "Requirement already satisfied: packaging<25,>=23.2 in c:\\users\\priya_0yiyr9i\\anaconda3\\lib\\site-packages (from langchain-core<0.3.0,>=0.2.12->langchain-community) (24.1)\n",
            "Requirement already satisfied: orjson<4.0.0,>=3.9.14 in c:\\users\\priya_0yiyr9i\\anaconda3\\lib\\site-packages (from langsmith<0.2.0,>=0.1.0->langchain-community) (3.10.6)\n",
            "Requirement already satisfied: charset-normalizer<4,>=2 in c:\\users\\priya_0yiyr9i\\anaconda3\\lib\\site-packages (from requests<3,>=2->langchain-community) (2.0.4)\n",
            "Requirement already satisfied: idna<4,>=2.5 in c:\\users\\priya_0yiyr9i\\anaconda3\\lib\\site-packages (from requests<3,>=2->langchain-community) (2.10)\n",
            "Requirement already satisfied: urllib3<3,>=1.21.1 in c:\\users\\priya_0yiyr9i\\anaconda3\\lib\\site-packages (from requests<3,>=2->langchain-community) (1.26.14)\n",
            "Requirement already satisfied: certifi>=2017.4.17 in c:\\users\\priya_0yiyr9i\\anaconda3\\lib\\site-packages (from requests<3,>=2->langchain-community) (2023.7.22)\n",
            "Requirement already satisfied: greenlet!=0.4.17 in c:\\users\\priya_0yiyr9i\\anaconda3\\lib\\site-packages (from SQLAlchemy<3,>=1.4->langchain-community) (2.0.1)\n",
            "Requirement already satisfied: jsonpointer>=1.9 in c:\\users\\priya_0yiyr9i\\anaconda3\\lib\\site-packages (from jsonpatch<2.0,>=1.33->langchain-core<0.3.0,>=0.2.12->langchain-community) (2.1)\n",
            "Requirement already satisfied: typing-extensions>=4.2.0 in c:\\users\\priya_0yiyr9i\\anaconda3\\lib\\site-packages (from pydantic<3,>=1->langchain<0.3.0,>=0.2.7->langchain-community) (4.12.1)\n",
            "Requirement already satisfied: mypy-extensions>=0.3.0 in c:\\users\\priya_0yiyr9i\\anaconda3\\lib\\site-packages (from typing-inspect<1,>=0.4.0->dataclasses-json<0.7,>=0.5.7->langchain-community) (0.4.3)\n",
            "Downloading langchain_community-0.2.7-py3-none-any.whl (2.2 MB)\n",
            "   ---------------------------------------- 0.0/2.2 MB ? eta -:--:--\n",
            "    --------------------------------------- 0.0/2.2 MB 1.9 MB/s eta 0:00:02\n",
            "   - -------------------------------------- 0.1/2.2 MB 656.4 kB/s eta 0:00:04\n",
            "   - -------------------------------------- 0.1/2.2 MB 573.4 kB/s eta 0:00:04\n",
            "   -- ------------------------------------- 0.1/2.2 MB 652.2 kB/s eta 0:00:04\n",
            "   -- ------------------------------------- 0.2/2.2 MB 701.4 kB/s eta 0:00:03\n",
            "   --- ------------------------------------ 0.2/2.2 MB 737.3 kB/s eta 0:00:03\n",
            "   --- ------------------------------------ 0.2/2.2 MB 737.3 kB/s eta 0:00:03\n",
            "   ---- ----------------------------------- 0.2/2.2 MB 625.1 kB/s eta 0:00:04\n",
            "   ---- ----------------------------------- 0.3/2.2 MB 654.7 kB/s eta 0:00:04\n",
            "   ----- ---------------------------------- 0.3/2.2 MB 654.6 kB/s eta 0:00:03\n",
            "   ----- ---------------------------------- 0.3/2.2 MB 654.6 kB/s eta 0:00:03\n",
            "   ----- ---------------------------------- 0.3/2.2 MB 654.6 kB/s eta 0:00:03\n",
            "   ------ --------------------------------- 0.3/2.2 MB 584.6 kB/s eta 0:00:04\n",
            "   ------ --------------------------------- 0.4/2.2 MB 573.4 kB/s eta 0:00:04\n",
            "   ------ --------------------------------- 0.4/2.2 MB 561.1 kB/s eta 0:00:04\n",
            "   ------- -------------------------------- 0.4/2.2 MB 568.1 kB/s eta 0:00:04\n",
            "   -------- ------------------------------- 0.5/2.2 MB 587.1 kB/s eta 0:00:04\n",
            "   -------- ------------------------------- 0.5/2.2 MB 554.2 kB/s eta 0:00:04\n",
            "   --------- ------------------------------ 0.5/2.2 MB 583.4 kB/s eta 0:00:03\n",
            "   ---------- ----------------------------- 0.6/2.2 MB 620.9 kB/s eta 0:00:03\n",
            "   ---------- ----------------------------- 0.6/2.2 MB 633.1 kB/s eta 0:00:03\n",
            "   ---------- ----------------------------- 0.6/2.2 MB 623.5 kB/s eta 0:00:03\n",
            "   ----------- ---------------------------- 0.7/2.2 MB 606.9 kB/s eta 0:00:03\n",
            "   ------------ --------------------------- 0.7/2.2 MB 655.2 kB/s eta 0:00:03\n",
            "   ------------- -------------------------- 0.7/2.2 MB 646.3 kB/s eta 0:00:03\n",
            "   -------------- ------------------------- 0.8/2.2 MB 672.3 kB/s eta 0:00:03\n",
            "   -------------- ------------------------- 0.8/2.2 MB 671.6 kB/s eta 0:00:03\n",
            "   ---------------- ----------------------- 0.9/2.2 MB 702.9 kB/s eta 0:00:02\n",
            "   ----------------- ---------------------- 1.0/2.2 MB 724.8 kB/s eta 0:00:02\n",
            "   ----------------- ---------------------- 1.0/2.2 MB 715.3 kB/s eta 0:00:02\n",
            "   ------------------ --------------------- 1.0/2.2 MB 720.1 kB/s eta 0:00:02\n",
            "   ------------------ --------------------- 1.1/2.2 MB 711.0 kB/s eta 0:00:02\n",
            "   -------------------- ------------------- 1.1/2.2 MB 743.0 kB/s eta 0:00:02\n",
            "   -------------------- ------------------- 1.1/2.2 MB 734.7 kB/s eta 0:00:02\n",
            "   --------------------- ------------------ 1.2/2.2 MB 756.9 kB/s eta 0:00:02\n",
            "   --------------------- ------------------ 1.2/2.2 MB 756.9 kB/s eta 0:00:02\n",
            "   ---------------------- ----------------- 1.3/2.2 MB 752.2 kB/s eta 0:00:02\n",
            "   ----------------------- ---------------- 1.3/2.2 MB 743.1 kB/s eta 0:00:02\n",
            "   ------------------------ --------------- 1.4/2.2 MB 758.5 kB/s eta 0:00:02\n",
            "   ------------------------ --------------- 1.4/2.2 MB 758.5 kB/s eta 0:00:02\n",
            "   ------------------------ --------------- 1.4/2.2 MB 737.3 kB/s eta 0:00:02\n",
            "   ------------------------- -------------- 1.4/2.2 MB 740.6 kB/s eta 0:00:02\n",
            "   ------------------------- -------------- 1.4/2.2 MB 734.0 kB/s eta 0:00:02\n",
            "   -------------------------- ------------- 1.5/2.2 MB 727.0 kB/s eta 0:00:02\n",
            "   -------------------------- ------------- 1.5/2.2 MB 727.0 kB/s eta 0:00:02\n",
            "   -------------------------- ------------- 1.5/2.2 MB 727.0 kB/s eta 0:00:02\n",
            "   ---------------------------- ----------- 1.6/2.2 MB 745.3 kB/s eta 0:00:01\n",
            "   ----------------------------- ---------- 1.6/2.2 MB 744.1 kB/s eta 0:00:01\n",
            "   ------------------------------ --------- 1.7/2.2 MB 746.4 kB/s eta 0:00:01\n",
            "   ------------------------------- -------- 1.8/2.2 MB 752.6 kB/s eta 0:00:01\n",
            "   ------------------------------- -------- 1.8/2.2 MB 755.8 kB/s eta 0:00:01\n",
            "   -------------------------------- ------- 1.8/2.2 MB 758.8 kB/s eta 0:00:01\n",
            "   -------------------------------- ------- 1.8/2.2 MB 758.8 kB/s eta 0:00:01\n",
            "   --------------------------------- ------ 1.9/2.2 MB 750.7 kB/s eta 0:00:01\n",
            "   ---------------------------------- ----- 1.9/2.2 MB 757.0 kB/s eta 0:00:01\n",
            "   ---------------------------------- ----- 1.9/2.2 MB 757.0 kB/s eta 0:00:01\n",
            "   ---------------------------------- ----- 1.9/2.2 MB 728.9 kB/s eta 0:00:01\n",
            "   ----------------------------------- ---- 2.0/2.2 MB 739.0 kB/s eta 0:00:01\n",
            "   ------------------------------------ --- 2.0/2.2 MB 745.7 kB/s eta 0:00:01\n",
            "   ------------------------------------- -- 2.1/2.2 MB 747.8 kB/s eta 0:00:01\n",
            "   ------------------------------------- -- 2.1/2.2 MB 739.0 kB/s eta 0:00:01\n",
            "   -------------------------------------- - 2.1/2.2 MB 741.1 kB/s eta 0:00:01\n",
            "   ---------------------------------------  2.2/2.2 MB 757.0 kB/s eta 0:00:01\n",
            "   ---------------------------------------  2.2/2.2 MB 760.5 kB/s eta 0:00:01\n",
            "   ---------------------------------------- 2.2/2.2 MB 743.6 kB/s eta 0:00:00\n",
            "Downloading dataclasses_json-0.6.7-py3-none-any.whl (28 kB)\n",
            "Downloading marshmallow-3.21.3-py3-none-any.whl (49 kB)\n",
            "   ---------------------------------------- 0.0/49.2 kB ? eta -:--:--\n",
            "   ---------------------------------------- 49.2/49.2 kB 829.0 kB/s eta 0:00:00\n",
            "Downloading typing_inspect-0.9.0-py3-none-any.whl (8.8 kB)\n",
            "Installing collected packages: typing-inspect, marshmallow, dataclasses-json, langchain-community\n",
            "Successfully installed dataclasses-json-0.6.7 langchain-community-0.2.7 marshmallow-3.21.3 typing-inspect-0.9.0\n"
          ]
        }
      ],
      "source": [
        "pip install -U langchain-community"
      ]
    },
    {
      "cell_type": "code",
      "execution_count": null,
      "id": "2028ba61",
      "metadata": {
        "id": "2028ba61",
        "outputId": "a47ebb3f-26aa-4ff1-9e51-af4bb7d50443",
        "colab": {
          "referenced_widgets": [
            "f0d3b99f94d4444084102722f1ca52a9",
            "8bc99d08e80a4a3ea506bff4d5c3de1c",
            "d820ef3b96be411da0be6cd38bc9cf0c",
            "ae0d39ffbba14ddea526e16a04a5baec",
            "83636c0b766b45a6ae7f6ff43ea15f49",
            "a19f53cce6194fd3b42ea660fd2e9112",
            "7223f31628124eb09947397146e94f05"
          ]
        }
      },
      "outputs": [
        {
          "data": {
            "application/vnd.jupyter.widget-view+json": {
              "model_id": "f0d3b99f94d4444084102722f1ca52a9",
              "version_major": 2,
              "version_minor": 0
            },
            "text/plain": [
              "tokenizer_config.json:   0%|          | 0.00/2.54k [00:00<?, ?B/s]"
            ]
          },
          "metadata": {},
          "output_type": "display_data"
        },
        {
          "name": "stderr",
          "output_type": "stream",
          "text": [
            "C:\\Users\\priya_0yiyr9i\\AppData\\Roaming\\Python\\Python310\\site-packages\\huggingface_hub\\file_download.py:157: UserWarning: `huggingface_hub` cache-system uses symlinks by default to efficiently store duplicated files but your machine does not support them in C:\\Users\\priya_0yiyr9i\\.cache\\huggingface\\hub\\models--google--flan-t5-small. Caching files will still work but in a degraded version that might require more space on your disk. This warning can be disabled by setting the `HF_HUB_DISABLE_SYMLINKS_WARNING` environment variable. For more details, see https://huggingface.co/docs/huggingface_hub/how-to-cache#limitations.\n",
            "To support symlinks on Windows, you either need to activate Developer Mode or to run Python as an administrator. In order to see activate developer mode, see this article: https://docs.microsoft.com/en-us/windows/apps/get-started/enable-your-device-for-development\n",
            "  warnings.warn(message)\n"
          ]
        },
        {
          "data": {
            "application/vnd.jupyter.widget-view+json": {
              "model_id": "8bc99d08e80a4a3ea506bff4d5c3de1c",
              "version_major": 2,
              "version_minor": 0
            },
            "text/plain": [
              "spiece.model:   0%|          | 0.00/792k [00:00<?, ?B/s]"
            ]
          },
          "metadata": {},
          "output_type": "display_data"
        },
        {
          "data": {
            "application/vnd.jupyter.widget-view+json": {
              "model_id": "d820ef3b96be411da0be6cd38bc9cf0c",
              "version_major": 2,
              "version_minor": 0
            },
            "text/plain": [
              "special_tokens_map.json:   0%|          | 0.00/2.20k [00:00<?, ?B/s]"
            ]
          },
          "metadata": {},
          "output_type": "display_data"
        },
        {
          "data": {
            "application/vnd.jupyter.widget-view+json": {
              "model_id": "ae0d39ffbba14ddea526e16a04a5baec",
              "version_major": 2,
              "version_minor": 0
            },
            "text/plain": [
              "tokenizer.json:   0%|          | 0.00/2.42M [00:00<?, ?B/s]"
            ]
          },
          "metadata": {},
          "output_type": "display_data"
        },
        {
          "name": "stderr",
          "output_type": "stream",
          "text": [
            "You are using the default legacy behaviour of the <class 'transformers.models.t5.tokenization_t5.T5Tokenizer'>. This is expected, and simply means that the `legacy` (previous) behavior will be used so nothing changes for you. If you want to use the new behaviour, set `legacy=False`. This should only be set if you understand what it means, and thoroughly read the reason why this was added as explained in https://github.com/huggingface/transformers/pull/24565\n",
            "Special tokens have been added in the vocabulary, make sure the associated word embeddings are fine-tuned or trained.\n"
          ]
        },
        {
          "data": {
            "application/vnd.jupyter.widget-view+json": {
              "model_id": "83636c0b766b45a6ae7f6ff43ea15f49",
              "version_major": 2,
              "version_minor": 0
            },
            "text/plain": [
              "config.json:   0%|          | 0.00/1.40k [00:00<?, ?B/s]"
            ]
          },
          "metadata": {},
          "output_type": "display_data"
        },
        {
          "data": {
            "application/vnd.jupyter.widget-view+json": {
              "model_id": "a19f53cce6194fd3b42ea660fd2e9112",
              "version_major": 2,
              "version_minor": 0
            },
            "text/plain": [
              "model.safetensors:   0%|          | 0.00/308M [00:00<?, ?B/s]"
            ]
          },
          "metadata": {},
          "output_type": "display_data"
        },
        {
          "data": {
            "application/vnd.jupyter.widget-view+json": {
              "model_id": "7223f31628124eb09947397146e94f05",
              "version_major": 2,
              "version_minor": 0
            },
            "text/plain": [
              "generation_config.json:   0%|          | 0.00/147 [00:00<?, ?B/s]"
            ]
          },
          "metadata": {},
          "output_type": "display_data"
        }
      ],
      "source": [
        "from transformers import T5ForConditionalGeneration, T5Tokenizer\n",
        "import fitz\n",
        "\n",
        "model_name = \"google/flan-t5-small\"\n",
        "tokenizer = T5Tokenizer.from_pretrained(model_name)\n",
        "model = T5ForConditionalGeneration.from_pretrained(model_name)\n",
        "text = \"\""
      ]
    },
    {
      "cell_type": "code",
      "execution_count": null,
      "id": "42d2eece",
      "metadata": {
        "id": "42d2eece"
      },
      "outputs": [],
      "source": [
        "import fitz  # PyMuPDF\n",
        "\n",
        "def extract_text_from_pdf(pdf_file_path):\n",
        "    text = \"\"\n",
        "    with fitz.open(pdf_file_path) as pdf_document:\n",
        "        num_pages = pdf_document.page_count\n",
        "        for page_num in range(num_pages):\n",
        "            page = pdf_document[page_num]\n",
        "            text += page.get_text()\n",
        "    return text\n",
        "\n",
        "# Path to the PDF file\n",
        "pdf_file_path = \"C:/Users/priya_0yiyr9i/Downloads/Meta-03-31-2024-Exhibit-99-1_FINAL.pdf\"\n",
        "\n",
        "# Extract text from the PDF\n",
        "pdf_text = extract_text_from_pdf(pdf_file_path)"
      ]
    },
    {
      "cell_type": "code",
      "execution_count": null,
      "id": "36e3ea7a",
      "metadata": {
        "id": "36e3ea7a",
        "outputId": "681197be-fec4-4f37-9ec9-05a3a98fdb7b"
      },
      "outputs": [
        {
          "name": "stderr",
          "output_type": "stream",
          "text": [
            "Special tokens have been added in the vocabulary, make sure the associated word embeddings are fine-tuned or trained.\n"
          ]
        },
        {
          "name": "stdout",
          "output_type": "stream",
          "text": [
            "Question 1: What is the main topic of the document?\n",
            "Answer 1: Meta Platforms\n",
            "\n",
            "Question 2: Who are the key stakeholders mentioned?\n",
            "Answer 2: Meta Platforms\n",
            "\n",
            "Question 3: What are the financial highlights discussed?\n",
            "Answer 3: Meta Platforms, Inc. is a global technology company that develops platforms for people to connect.\n",
            "\n",
            "Question 4: What is the conclusion of the report?\n",
            "Answer 4: It is a global technology company that develops platforms for people to connect.\n",
            "\n"
          ]
        }
      ],
      "source": [
        "from transformers import T5ForConditionalGeneration, T5Tokenizer\n",
        "\n",
        "# Initialize T5 model and tokenizer\n",
        "model_name = \"google/flan-t5-small\"\n",
        "tokenizer = T5Tokenizer.from_pretrained(model_name)\n",
        "model = T5ForConditionalGeneration.from_pretrained(model_name)\n",
        "\n",
        "# Dummy function to retrieve relevant passages (replace with actual retrieval logic)\n",
        "def retrieve_relevant_passages(question):\n",
        "    # Placeholder logic (replace with actual retrieval logic)\n",
        "    return \"Meta Platforms, Inc. is a global technology company that develops platforms for people to connect.\"\n",
        "\n",
        "# Define multiple questions\n",
        "questions = [\n",
        "    \"What is the main topic of the document?\",\n",
        "    \"Who are the key stakeholders mentioned?\",\n",
        "    \"What are the financial highlights discussed?\",\n",
        "    \"What is the conclusion of the report?\",\n",
        "]\n",
        "\n",
        "# Iterate through questions and generate answers using RAG\n",
        "for idx, question in enumerate(questions, start=1):\n",
        "    print(f\"Question {idx}: {question}\")\n",
        "\n",
        "    # Retrieve relevant passages\n",
        "    retrieved_passages = retrieve_relevant_passages(question)\n",
        "\n",
        "    # Generate answer using RAG approach\n",
        "    inputs = tokenizer.encode(\"question: \" + question + \" context: \" + retrieved_passages, return_tensors=\"pt\", max_length=512, truncation=True)\n",
        "\n",
        "    # Adjust max_length for longer answers\n",
        "    outputs = model.generate(inputs, max_length=1000)  # Increase max_length as needed\n",
        "\n",
        "    answer = tokenizer.decode(outputs[0], skip_special_tokens=True)\n",
        "\n",
        "    print(f\"Answer {idx}: {answer}\")\n",
        "    print()"
      ]
    },
    {
      "cell_type": "code",
      "execution_count": null,
      "id": "15edf267",
      "metadata": {
        "id": "15edf267"
      },
      "outputs": [],
      "source": []
    },
    {
      "cell_type": "code",
      "execution_count": null,
      "id": "bd380602",
      "metadata": {
        "id": "bd380602"
      },
      "outputs": [],
      "source": []
    },
    {
      "cell_type": "code",
      "execution_count": null,
      "id": "1283498b",
      "metadata": {
        "id": "1283498b"
      },
      "outputs": [],
      "source": []
    },
    {
      "cell_type": "code",
      "execution_count": null,
      "id": "67518c1d",
      "metadata": {
        "id": "67518c1d"
      },
      "outputs": [],
      "source": []
    },
    {
      "cell_type": "code",
      "execution_count": null,
      "id": "da275d10",
      "metadata": {
        "id": "da275d10"
      },
      "outputs": [],
      "source": []
    },
    {
      "cell_type": "code",
      "execution_count": null,
      "id": "86b6c49a",
      "metadata": {
        "id": "86b6c49a"
      },
      "outputs": [],
      "source": []
    },
    {
      "cell_type": "code",
      "execution_count": null,
      "id": "efd0f245",
      "metadata": {
        "id": "efd0f245"
      },
      "outputs": [],
      "source": []
    },
    {
      "cell_type": "code",
      "execution_count": null,
      "id": "94845930",
      "metadata": {
        "id": "94845930"
      },
      "outputs": [],
      "source": []
    },
    {
      "cell_type": "code",
      "execution_count": null,
      "id": "100c035c",
      "metadata": {
        "id": "100c035c"
      },
      "outputs": [],
      "source": []
    },
    {
      "cell_type": "code",
      "execution_count": null,
      "id": "d58cae79",
      "metadata": {
        "id": "d58cae79"
      },
      "outputs": [],
      "source": []
    }
  ],
  "metadata": {
    "kernelspec": {
      "display_name": "Python 3 (ipykernel)",
      "language": "python",
      "name": "python3"
    },
    "language_info": {
      "codemirror_mode": {
        "name": "ipython",
        "version": 3
      },
      "file_extension": ".py",
      "mimetype": "text/x-python",
      "name": "python",
      "nbconvert_exporter": "python",
      "pygments_lexer": "ipython3",
      "version": "3.10.9"
    },
    "colab": {
      "provenance": [],
      "include_colab_link": true
    }
  },
  "nbformat": 4,
  "nbformat_minor": 5
}