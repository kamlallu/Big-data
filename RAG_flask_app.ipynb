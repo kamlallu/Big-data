{
  "cells": [
    {
      "cell_type": "markdown",
      "metadata": {
        "id": "view-in-github",
        "colab_type": "text"
      },
      "source": [
        "<a href=\"https://colab.research.google.com/github/kamlallu/EDA/blob/main/RAG_flask_app.ipynb\" target=\"_parent\"><img src=\"https://colab.research.google.com/assets/colab-badge.svg\" alt=\"Open In Colab\"/></a>"
      ]
    },
    {
      "cell_type": "code",
      "execution_count": null,
      "id": "1877bb33",
      "metadata": {
        "id": "1877bb33",
        "outputId": "076b3fe9-dc59-4c5c-b3b9-cd1ccb1bf1ed"
      },
      "outputs": [
        {
          "name": "stdout",
          "output_type": "stream",
          "text": [
            "Requirement already satisfied: transformers in c:\\users\\priya_0yiyr9i\\anaconda3\\lib\\site-packages (4.42.4)\n",
            "Requirement already satisfied: faiss-cpu in c:\\users\\priya_0yiyr9i\\anaconda3\\lib\\site-packages (1.8.0.post1)\n",
            "Requirement already satisfied: sentence-transformers in c:\\users\\priya_0yiyr9i\\anaconda3\\lib\\site-packages (3.0.1)\n",
            "Requirement already satisfied: PyPDF2 in c:\\users\\priya_0yiyr9i\\anaconda3\\lib\\site-packages (3.0.1)\n",
            "Requirement already satisfied: filelock in c:\\users\\priya_0yiyr9i\\anaconda3\\lib\\site-packages (from transformers) (3.9.0)\n",
            "Requirement already satisfied: huggingface-hub<1.0,>=0.23.2 in c:\\users\\priya_0yiyr9i\\appdata\\roaming\\python\\python310\\site-packages (from transformers) (0.23.4)\n",
            "Requirement already satisfied: numpy<2.0,>=1.17 in c:\\users\\priya_0yiyr9i\\anaconda3\\lib\\site-packages (from transformers) (1.23.5)\n",
            "Requirement already satisfied: packaging>=20.0 in c:\\users\\priya_0yiyr9i\\anaconda3\\lib\\site-packages (from transformers) (23.2)\n",
            "Requirement already satisfied: pyyaml>=5.1 in c:\\users\\priya_0yiyr9i\\anaconda3\\lib\\site-packages (from transformers) (6.0)\n",
            "Requirement already satisfied: regex!=2019.12.17 in c:\\users\\priya_0yiyr9i\\anaconda3\\lib\\site-packages (from transformers) (2022.7.9)\n",
            "Requirement already satisfied: requests in c:\\users\\priya_0yiyr9i\\anaconda3\\lib\\site-packages (from transformers) (2.32.3)\n",
            "Requirement already satisfied: safetensors>=0.4.1 in c:\\users\\priya_0yiyr9i\\anaconda3\\lib\\site-packages (from transformers) (0.4.3)\n",
            "Requirement already satisfied: tokenizers<0.20,>=0.19 in c:\\users\\priya_0yiyr9i\\anaconda3\\lib\\site-packages (from transformers) (0.19.1)\n",
            "Requirement already satisfied: tqdm>=4.27 in c:\\users\\priya_0yiyr9i\\anaconda3\\lib\\site-packages (from transformers) (4.66.4)\n",
            "Requirement already satisfied: torch>=1.11.0 in c:\\users\\priya_0yiyr9i\\anaconda3\\lib\\site-packages (from sentence-transformers) (1.12.1)\n",
            "Requirement already satisfied: scikit-learn in c:\\users\\priya_0yiyr9i\\anaconda3\\lib\\site-packages (from sentence-transformers) (1.2.1)\n",
            "Requirement already satisfied: scipy in c:\\users\\priya_0yiyr9i\\anaconda3\\lib\\site-packages (from sentence-transformers) (1.10.0)\n",
            "Requirement already satisfied: Pillow in c:\\users\\priya_0yiyr9i\\anaconda3\\lib\\site-packages (from sentence-transformers) (9.4.0)\n",
            "Requirement already satisfied: fsspec>=2023.5.0 in c:\\users\\priya_0yiyr9i\\appdata\\roaming\\python\\python310\\site-packages (from huggingface-hub<1.0,>=0.23.2->transformers) (2024.5.0)\n",
            "Requirement already satisfied: typing-extensions>=3.7.4.3 in c:\\users\\priya_0yiyr9i\\anaconda3\\lib\\site-packages (from huggingface-hub<1.0,>=0.23.2->transformers) (4.12.1)\n",
            "Requirement already satisfied: colorama in c:\\users\\priya_0yiyr9i\\anaconda3\\lib\\site-packages (from tqdm>=4.27->transformers) (0.4.6)\n",
            "Requirement already satisfied: charset-normalizer<4,>=2 in c:\\users\\priya_0yiyr9i\\anaconda3\\lib\\site-packages (from requests->transformers) (3.3.2)\n",
            "Requirement already satisfied: idna<4,>=2.5 in c:\\users\\priya_0yiyr9i\\anaconda3\\lib\\site-packages (from requests->transformers) (3.4)\n",
            "Requirement already satisfied: urllib3<3,>=1.21.1 in c:\\users\\priya_0yiyr9i\\anaconda3\\lib\\site-packages (from requests->transformers) (2.2.2)\n",
            "Requirement already satisfied: certifi>=2017.4.17 in c:\\users\\priya_0yiyr9i\\anaconda3\\lib\\site-packages (from requests->transformers) (2023.7.22)\n",
            "Requirement already satisfied: joblib>=1.1.1 in c:\\users\\priya_0yiyr9i\\anaconda3\\lib\\site-packages (from scikit-learn->sentence-transformers) (1.1.1)\n",
            "Requirement already satisfied: threadpoolctl>=2.0.0 in c:\\users\\priya_0yiyr9i\\anaconda3\\lib\\site-packages (from scikit-learn->sentence-transformers) (2.2.0)\n",
            "Note: you may need to restart the kernel to use updated packages.\n"
          ]
        },
        {
          "name": "stderr",
          "output_type": "stream",
          "text": [
            "\n",
            "[notice] A new release of pip is available: 24.1.1 -> 24.1.2\n",
            "[notice] To update, run: python.exe -m pip install --upgrade pip\n"
          ]
        }
      ],
      "source": [
        "pip install transformers faiss-cpu sentence-transformers PyPDF2"
      ]
    },
    {
      "cell_type": "code",
      "execution_count": null,
      "id": "e9732335",
      "metadata": {
        "id": "e9732335",
        "outputId": "84a05d14-7be6-400c-9367-a857b132044b"
      },
      "outputs": [
        {
          "name": "stdout",
          "output_type": "stream",
          "text": [
            "Requirement already satisfied: PyMuPDF in c:\\users\\priya_0yiyr9i\\anaconda3\\lib\\site-packages (1.24.7)\n",
            "Requirement already satisfied: PyMuPDFb==1.24.6 in c:\\users\\priya_0yiyr9i\\anaconda3\\lib\\site-packages (from PyMuPDF) (1.24.6)\n",
            "Note: you may need to restart the kernel to use updated packages.\n"
          ]
        },
        {
          "name": "stderr",
          "output_type": "stream",
          "text": [
            "\n",
            "[notice] A new release of pip is available: 24.1.1 -> 24.1.2\n",
            "[notice] To update, run: python.exe -m pip install --upgrade pip\n"
          ]
        }
      ],
      "source": [
        "pip install PyMuPDF"
      ]
    },
    {
      "cell_type": "code",
      "execution_count": null,
      "id": "a549a2ad",
      "metadata": {
        "id": "a549a2ad",
        "outputId": "c1446850-17a8-459c-afe8-f026d684daf2"
      },
      "outputs": [
        {
          "name": "stdout",
          "output_type": "stream",
          "text": [
            "Requirement already satisfied: sentencepiece in c:\\users\\priya_0yiyr9i\\anaconda3\\lib\\site-packages (0.2.0)\n",
            "Note: you may need to restart the kernel to use updated packages.\n"
          ]
        },
        {
          "name": "stderr",
          "output_type": "stream",
          "text": [
            "\n",
            "[notice] A new release of pip is available: 24.1.1 -> 24.1.2\n",
            "[notice] To update, run: python.exe -m pip install --upgrade pip\n"
          ]
        }
      ],
      "source": [
        "pip install sentencepiece"
      ]
    },
    {
      "cell_type": "code",
      "execution_count": null,
      "id": "eaab83b0",
      "metadata": {
        "id": "eaab83b0",
        "outputId": "3b1bd3aa-b86a-47f3-963e-ff186173fa5c"
      },
      "outputs": [
        {
          "name": "stdout",
          "output_type": "stream",
          "text": [
            "Requirement already satisfied: langchain-community in c:\\users\\priya_0yiyr9i\\anaconda3\\lib\\site-packages (0.2.9)Note: you may need to restart the kernel to use updated packages.\n",
            "\n",
            "Requirement already satisfied: PyYAML>=5.3 in c:\\users\\priya_0yiyr9i\\anaconda3\\lib\\site-packages (from langchain-community) (6.0)\n",
            "Requirement already satisfied: SQLAlchemy<3,>=1.4 in c:\\users\\priya_0yiyr9i\\anaconda3\\lib\\site-packages (from langchain-community) (1.4.39)\n",
            "Requirement already satisfied: aiohttp<4.0.0,>=3.8.3 in c:\\users\\priya_0yiyr9i\\appdata\\roaming\\python\\python310\\site-packages (from langchain-community) (3.9.5)\n",
            "Requirement already satisfied: dataclasses-json<0.7,>=0.5.7 in c:\\users\\priya_0yiyr9i\\anaconda3\\lib\\site-packages (from langchain-community) (0.6.7)\n",
            "Requirement already satisfied: langchain<0.3.0,>=0.2.9 in c:\\users\\priya_0yiyr9i\\anaconda3\\lib\\site-packages (from langchain-community) (0.2.10)\n",
            "Requirement already satisfied: langchain-core<0.3.0,>=0.2.22 in c:\\users\\priya_0yiyr9i\\anaconda3\\lib\\site-packages (from langchain-community) (0.2.22)\n",
            "Requirement already satisfied: langsmith<0.2.0,>=0.1.0 in c:\\users\\priya_0yiyr9i\\anaconda3\\lib\\site-packages (from langchain-community) (0.1.88)\n",
            "Requirement already satisfied: numpy<2,>=1 in c:\\users\\priya_0yiyr9i\\anaconda3\\lib\\site-packages (from langchain-community) (1.23.5)\n",
            "Requirement already satisfied: requests<3,>=2 in c:\\users\\priya_0yiyr9i\\anaconda3\\lib\\site-packages (from langchain-community) (2.32.3)\n",
            "Requirement already satisfied: tenacity!=8.4.0,<9.0.0,>=8.1.0 in c:\\users\\priya_0yiyr9i\\anaconda3\\lib\\site-packages (from langchain-community) (8.2.3)\n",
            "Requirement already satisfied: aiosignal>=1.1.2 in c:\\users\\priya_0yiyr9i\\appdata\\roaming\\python\\python310\\site-packages (from aiohttp<4.0.0,>=3.8.3->langchain-community) (1.3.1)\n",
            "Requirement already satisfied: attrs>=17.3.0 in c:\\users\\priya_0yiyr9i\\anaconda3\\lib\\site-packages (from aiohttp<4.0.0,>=3.8.3->langchain-community) (23.2.0)\n",
            "Requirement already satisfied: frozenlist>=1.1.1 in c:\\users\\priya_0yiyr9i\\appdata\\roaming\\python\\python310\\site-packages (from aiohttp<4.0.0,>=3.8.3->langchain-community) (1.4.1)\n",
            "Requirement already satisfied: multidict<7.0,>=4.5 in c:\\users\\priya_0yiyr9i\\appdata\\roaming\\python\\python310\\site-packages (from aiohttp<4.0.0,>=3.8.3->langchain-community) (6.0.5)\n",
            "Requirement already satisfied: yarl<2.0,>=1.0 in c:\\users\\priya_0yiyr9i\\appdata\\roaming\\python\\python310\\site-packages (from aiohttp<4.0.0,>=3.8.3->langchain-community) (1.9.4)\n",
            "Requirement already satisfied: async-timeout<5.0,>=4.0 in c:\\users\\priya_0yiyr9i\\appdata\\roaming\\python\\python310\\site-packages (from aiohttp<4.0.0,>=3.8.3->langchain-community) (4.0.3)\n",
            "Requirement already satisfied: marshmallow<4.0.0,>=3.18.0 in c:\\users\\priya_0yiyr9i\\anaconda3\\lib\\site-packages (from dataclasses-json<0.7,>=0.5.7->langchain-community) (3.21.3)\n",
            "Requirement already satisfied: typing-inspect<1,>=0.4.0 in c:\\users\\priya_0yiyr9i\\anaconda3\\lib\\site-packages (from dataclasses-json<0.7,>=0.5.7->langchain-community) (0.9.0)\n",
            "Requirement already satisfied: langchain-text-splitters<0.3.0,>=0.2.0 in c:\\users\\priya_0yiyr9i\\anaconda3\\lib\\site-packages (from langchain<0.3.0,>=0.2.9->langchain-community) (0.2.2)\n",
            "Requirement already satisfied: pydantic<3,>=1 in c:\\users\\priya_0yiyr9i\\anaconda3\\lib\\site-packages (from langchain<0.3.0,>=0.2.9->langchain-community) (1.10.12)\n",
            "Requirement already satisfied: jsonpatch<2.0,>=1.33 in c:\\users\\priya_0yiyr9i\\anaconda3\\lib\\site-packages (from langchain-core<0.3.0,>=0.2.22->langchain-community) (1.33)\n",
            "Requirement already satisfied: packaging<25,>=23.2 in c:\\users\\priya_0yiyr9i\\anaconda3\\lib\\site-packages (from langchain-core<0.3.0,>=0.2.22->langchain-community) (23.2)\n",
            "Requirement already satisfied: orjson<4.0.0,>=3.9.14 in c:\\users\\priya_0yiyr9i\\anaconda3\\lib\\site-packages (from langsmith<0.2.0,>=0.1.0->langchain-community) (3.10.6)\n",
            "Requirement already satisfied: charset-normalizer<4,>=2 in c:\\users\\priya_0yiyr9i\\anaconda3\\lib\\site-packages (from requests<3,>=2->langchain-community) (3.3.2)\n",
            "Requirement already satisfied: idna<4,>=2.5 in c:\\users\\priya_0yiyr9i\\anaconda3\\lib\\site-packages (from requests<3,>=2->langchain-community) (3.4)\n",
            "Requirement already satisfied: urllib3<3,>=1.21.1 in c:\\users\\priya_0yiyr9i\\anaconda3\\lib\\site-packages (from requests<3,>=2->langchain-community) (2.2.2)\n",
            "Requirement already satisfied: certifi>=2017.4.17 in c:\\users\\priya_0yiyr9i\\anaconda3\\lib\\site-packages (from requests<3,>=2->langchain-community) (2023.7.22)\n",
            "Requirement already satisfied: greenlet!=0.4.17 in c:\\users\\priya_0yiyr9i\\anaconda3\\lib\\site-packages (from SQLAlchemy<3,>=1.4->langchain-community) (2.0.1)\n",
            "Requirement already satisfied: jsonpointer>=1.9 in c:\\users\\priya_0yiyr9i\\anaconda3\\lib\\site-packages (from jsonpatch<2.0,>=1.33->langchain-core<0.3.0,>=0.2.22->langchain-community) (2.1)\n",
            "Requirement already satisfied: typing-extensions>=4.2.0 in c:\\users\\priya_0yiyr9i\\anaconda3\\lib\\site-packages (from pydantic<3,>=1->langchain<0.3.0,>=0.2.9->langchain-community) (4.12.1)\n",
            "Requirement already satisfied: mypy-extensions>=0.3.0 in c:\\users\\priya_0yiyr9i\\anaconda3\\lib\\site-packages (from typing-inspect<1,>=0.4.0->dataclasses-json<0.7,>=0.5.7->langchain-community) (1.0.0)\n"
          ]
        },
        {
          "name": "stderr",
          "output_type": "stream",
          "text": [
            "\n",
            "[notice] A new release of pip is available: 24.1.1 -> 24.1.2\n",
            "[notice] To update, run: python.exe -m pip install --upgrade pip\n"
          ]
        }
      ],
      "source": [
        "pip install -U langchain-community"
      ]
    },
    {
      "cell_type": "code",
      "execution_count": null,
      "id": "2028ba61",
      "metadata": {
        "id": "2028ba61",
        "outputId": "ff951f61-a05a-4197-dbf1-218f7de92ca1"
      },
      "outputs": [
        {
          "name": "stderr",
          "output_type": "stream",
          "text": [
            "You are using the default legacy behaviour of the <class 'transformers.models.t5.tokenization_t5.T5Tokenizer'>. This is expected, and simply means that the `legacy` (previous) behavior will be used so nothing changes for you. If you want to use the new behaviour, set `legacy=False`. This should only be set if you understand what it means, and thoroughly read the reason why this was added as explained in https://github.com/huggingface/transformers/pull/24565\n",
            "Special tokens have been added in the vocabulary, make sure the associated word embeddings are fine-tuned or trained.\n"
          ]
        }
      ],
      "source": [
        "from transformers import T5ForConditionalGeneration, T5Tokenizer\n",
        "import fitz\n",
        "\n",
        "model_name = \"google/flan-t5-small\"\n",
        "tokenizer = T5Tokenizer.from_pretrained(model_name)\n",
        "model = T5ForConditionalGeneration.from_pretrained(model_name)\n",
        "text = \"\""
      ]
    },
    {
      "cell_type": "code",
      "execution_count": null,
      "id": "42d2eece",
      "metadata": {
        "id": "42d2eece"
      },
      "outputs": [],
      "source": [
        "import fitz  # PyMuPDF\n",
        "\n",
        "def extract_text_from_pdf(pdf_file_path):\n",
        "    text = \"\"\n",
        "    with fitz.open(pdf_file_path) as pdf_document:\n",
        "        num_pages = pdf_document.page_count\n",
        "        for page_num in range(num_pages):\n",
        "            page = pdf_document[page_num]\n",
        "            text += page.get_text()\n",
        "    return text\n",
        "\n",
        "# Path to the PDF file\n",
        "pdf_file_path = \"C:/Users/priya_0yiyr9i/Downloads/Meta-03-31-2024-Exhibit-99-1_FINAL.pdf\"\n",
        "\n",
        "# Extract text from the PDF\n",
        "pdf_text = extract_text_from_pdf(pdf_file_path)"
      ]
    },
    {
      "cell_type": "code",
      "execution_count": null,
      "id": "36e3ea7a",
      "metadata": {
        "id": "36e3ea7a",
        "outputId": "1cb1c403-d4d9-4454-8064-d7e1a8364993"
      },
      "outputs": [
        {
          "name": "stderr",
          "output_type": "stream",
          "text": [
            "Special tokens have been added in the vocabulary, make sure the associated word embeddings are fine-tuned or trained.\n"
          ]
        },
        {
          "name": "stdout",
          "output_type": "stream",
          "text": [
            "Question 1: What is the main topic of the document?\n",
            "Answer 1: Meta Platforms\n",
            "\n",
            "Question 2: Who are the key stakeholders mentioned?\n",
            "Answer 2: Meta Platforms\n",
            "\n",
            "Question 3: What are the financial highlights discussed?\n",
            "Answer 3: Meta Platforms, Inc. is a global technology company that develops platforms for people to connect.\n",
            "\n",
            "Question 4: What is the conclusion of the report?\n",
            "Answer 4: It is a global technology company that develops platforms for people to connect.\n",
            "\n"
          ]
        }
      ],
      "source": [
        "from transformers import T5ForConditionalGeneration, T5Tokenizer\n",
        "\n",
        "# Initialize T5 model and tokenizer\n",
        "model_name = \"google/flan-t5-small\"\n",
        "tokenizer = T5Tokenizer.from_pretrained(model_name)\n",
        "model = T5ForConditionalGeneration.from_pretrained(model_name)\n",
        "\n",
        "# Dummy function to retrieve relevant passages (replace with actual retrieval logic)\n",
        "def retrieve_relevant_passages(question):\n",
        "    # Placeholder logic (replace with actual retrieval logic)\n",
        "    return \"Meta Platforms, Inc. is a global technology company that develops platforms for people to connect.\"\n",
        "\n",
        "# Define multiple questions\n",
        "questions = [\n",
        "    \"What is the main topic of the document?\",\n",
        "    \"Who are the key stakeholders mentioned?\",\n",
        "    \"What are the financial highlights discussed?\",\n",
        "    \"What is the conclusion of the report?\",\n",
        "]\n",
        "\n",
        "# Iterate through questions and generate answers using RAG\n",
        "for idx, question in enumerate(questions, start=1):\n",
        "    print(f\"Question {idx}: {question}\")\n",
        "\n",
        "    # Retrieve relevant passages\n",
        "    retrieved_passages = retrieve_relevant_passages(question)\n",
        "\n",
        "    # Generate answer using RAG approach\n",
        "    inputs = tokenizer.encode(\"question: \" + question + \" context: \" + retrieved_passages, return_tensors=\"pt\", max_length=512, truncation=True)\n",
        "\n",
        "    # Adjust max_length for longer answers\n",
        "    outputs = model.generate(inputs, max_length=1000)  # Increase max_length as needed\n",
        "\n",
        "    answer = tokenizer.decode(outputs[0], skip_special_tokens=True)\n",
        "\n",
        "    print(f\"Answer {idx}: {answer}\")\n",
        "    print()"
      ]
    },
    {
      "cell_type": "code",
      "execution_count": null,
      "id": "5483550e",
      "metadata": {
        "id": "5483550e",
        "outputId": "be6b8726-db9e-4bba-ca52-c2617a265094"
      },
      "outputs": [
        {
          "name": "stdout",
          "output_type": "stream",
          "text": [
            "Note: you may need to restart the kernel to use updated packages.Requirement already satisfied: dash in c:\\users\\priya_0yiyr9i\\anaconda3\\lib\\site-packages (2.17.1)\n",
            "Requirement already satisfied: Flask<3.1,>=1.0.4 in c:\\users\\priya_0yiyr9i\\anaconda3\\lib\\site-packages (from dash) (2.2.2)\n",
            "Requirement already satisfied: Werkzeug<3.1 in c:\\users\\priya_0yiyr9i\\anaconda3\\lib\\site-packages (from dash) (2.2.2)\n",
            "Requirement already satisfied: plotly>=5.0.0 in c:\\users\\priya_0yiyr9i\\anaconda3\\lib\\site-packages (from dash) (5.9.0)\n",
            "Requirement already satisfied: dash-html-components==2.0.0 in c:\\users\\priya_0yiyr9i\\anaconda3\\lib\\site-packages (from dash) (2.0.0)\n",
            "Requirement already satisfied: dash-core-components==2.0.0 in c:\\users\\priya_0yiyr9i\\anaconda3\\lib\\site-packages (from dash) (2.0.0)\n",
            "Requirement already satisfied: dash-table==5.0.0 in c:\\users\\priya_0yiyr9i\\anaconda3\\lib\\site-packages (from dash) (5.0.0)\n",
            "Requirement already satisfied: importlib-metadata in c:\\users\\priya_0yiyr9i\\anaconda3\\lib\\site-packages (from dash) (4.11.3)\n",
            "Requirement already satisfied: typing-extensions>=4.1.1 in c:\\users\\priya_0yiyr9i\\anaconda3\\lib\\site-packages (from dash) (4.12.1)\n",
            "Requirement already satisfied: requests in c:\\users\\priya_0yiyr9i\\anaconda3\\lib\\site-packages (from dash) (2.32.3)\n",
            "Requirement already satisfied: retrying in c:\\users\\priya_0yiyr9i\\anaconda3\\lib\\site-packages (from dash) (1.3.4)\n",
            "Requirement already satisfied: nest-asyncio in c:\\users\\priya_0yiyr9i\\anaconda3\\lib\\site-packages (from dash) (1.6.0)\n",
            "Requirement already satisfied: setuptools in c:\\users\\priya_0yiyr9i\\anaconda3\\lib\\site-packages (from dash) (69.0.2)\n",
            "Requirement already satisfied: Jinja2>=3.0 in c:\\users\\priya_0yiyr9i\\anaconda3\\lib\\site-packages (from Flask<3.1,>=1.0.4->dash) (3.1.2)\n",
            "Requirement already satisfied: itsdangerous>=2.0 in c:\\users\\priya_0yiyr9i\\anaconda3\\lib\\site-packages (from Flask<3.1,>=1.0.4->dash) (2.0.1)\n",
            "Requirement already satisfied: click>=8.0 in c:\\users\\priya_0yiyr9i\\anaconda3\\lib\\site-packages (from Flask<3.1,>=1.0.4->dash) (8.0.4)\n",
            "Requirement already satisfied: tenacity>=6.2.0 in c:\\users\\priya_0yiyr9i\\anaconda3\\lib\\site-packages (from plotly>=5.0.0->dash) (8.2.3)\n",
            "Requirement already satisfied: MarkupSafe>=2.1.1 in c:\\users\\priya_0yiyr9i\\anaconda3\\lib\\site-packages (from Werkzeug<3.1->dash) (2.1.1)\n",
            "Requirement already satisfied: zipp>=0.5 in c:\\users\\priya_0yiyr9i\\anaconda3\\lib\\site-packages (from importlib-metadata->dash) (3.11.0)\n",
            "Requirement already satisfied: charset-normalizer<4,>=2 in c:\\users\\priya_0yiyr9i\\anaconda3\\lib\\site-packages (from requests->dash) (3.3.2)\n",
            "Requirement already satisfied: idna<4,>=2.5 in c:\\users\\priya_0yiyr9i\\anaconda3\\lib\\site-packages (from requests->dash) (3.4)\n",
            "Requirement already satisfied: urllib3<3,>=1.21.1 in c:\\users\\priya_0yiyr9i\\anaconda3\\lib\\site-packages (from requests->dash) (2.2.2)\n",
            "Requirement already satisfied: certifi>=2017.4.17 in c:\\users\\priya_0yiyr9i\\anaconda3\\lib\\site-packages (from requests->dash) (2023.7.22)\n",
            "Requirement already satisfied: six>=1.7.0 in c:\\users\\priya_0yiyr9i\\anaconda3\\lib\\site-packages (from retrying->dash) (1.16.0)\n",
            "Requirement already satisfied: colorama in c:\\users\\priya_0yiyr9i\\anaconda3\\lib\\site-packages (from click>=8.0->Flask<3.1,>=1.0.4->dash) (0.4.6)\n",
            "\n"
          ]
        },
        {
          "name": "stderr",
          "output_type": "stream",
          "text": [
            "\n",
            "[notice] A new release of pip is available: 24.1.1 -> 24.1.2\n",
            "[notice] To update, run: python.exe -m pip install --upgrade pip\n"
          ]
        }
      ],
      "source": [
        "pip install dash"
      ]
    },
    {
      "cell_type": "code",
      "execution_count": null,
      "id": "6c26e03d",
      "metadata": {
        "id": "6c26e03d",
        "outputId": "6c584aea-cd34-4b74-d1a9-32b449c100e2"
      },
      "outputs": [
        {
          "name": "stderr",
          "output_type": "stream",
          "text": [
            "Special tokens have been added in the vocabulary, make sure the associated word embeddings are fine-tuned or trained.\n"
          ]
        },
        {
          "data": {
            "text/html": [
              "\n",
              "        <iframe\n",
              "            width=\"100%\"\n",
              "            height=\"650\"\n",
              "            src=\"http://127.0.0.1:8050/\"\n",
              "            frameborder=\"0\"\n",
              "            allowfullscreen\n",
              "            \n",
              "        ></iframe>\n",
              "        "
            ],
            "text/plain": [
              "<IPython.lib.display.IFrame at 0x1cd0e40fee0>"
            ]
          },
          "metadata": {},
          "output_type": "display_data"
        }
      ],
      "source": [
        "import dash\n",
        "import dash_core_components as dcc\n",
        "import dash_html_components as html\n",
        "from dash.dependencies import Input, Output\n",
        "from transformers import T5ForConditionalGeneration, T5Tokenizer\n",
        "import socket\n",
        "\n",
        "# Initialize Dash app\n",
        "app = dash.Dash(__name__)\n",
        "\n",
        "# Initialize T5 model and tokenizer\n",
        "model_name = \"google/flan-t5-small\"\n",
        "tokenizer = T5Tokenizer.from_pretrained(model_name)\n",
        "model = T5ForConditionalGeneration.from_pretrained(model_name)\n",
        "\n",
        "# Dummy function to retrieve relevant passages\n",
        "def retrieve_relevant_passages(question):\n",
        "    return \"Meta Platforms, Inc. is a global technology company that develops platforms for people to connect.\"\n",
        "\n",
        "# Define app layout\n",
        "app.layout = html.Div([\n",
        "    html.H1(\"Q&A System\"),\n",
        "\n",
        "    # Input field for question\n",
        "    dcc.Input(id='question-input', type='text', placeholder='Enter your question', style={'width': '60%'}),\n",
        "\n",
        "    # Button to submit question\n",
        "    html.Button('Get Answer', id='submit-button', n_clicks=0),\n",
        "\n",
        "    # Output area for answer\n",
        "    html.Div(id='answer-output', style={'marginTop': '20px'}),\n",
        "\n",
        "    # Display the server link\n",
        "    html.Div(id='server-link-output', style={'marginTop': '20px'})\n",
        "])\n",
        "\n",
        "# Define callback to update the answer and server link\n",
        "@app.callback(\n",
        "    [Output('answer-output', 'children'),\n",
        "     Output('server-link-output', 'children')],\n",
        "    [Input('submit-button', 'n_clicks')],\n",
        "    [dash.dependencies.State('question-input', 'value')]\n",
        ")\n",
        "def update_answer(n_clicks, question):\n",
        "    if n_clicks > 0:\n",
        "        if question:\n",
        "            # Retrieve relevant passages\n",
        "            retrieved_passages = retrieve_relevant_passages(question)\n",
        "\n",
        "            # Generate answer\n",
        "            inputs = tokenizer.encode(\"question: \" + question + \" context: \" + retrieved_passages, return_tensors=\"pt\", max_length=512, truncation=True)\n",
        "            outputs = model.generate(inputs, max_length=1000)\n",
        "            answer = tokenizer.decode(outputs[0], skip_special_tokens=True)\n",
        "\n",
        "            # Display the server link\n",
        "            server_link = f\"http://127.0.0.1:8050\"  # Default local server address for Dash\n",
        "\n",
        "            return f\"Answer: {answer}\", f\"Server Link: {server_link}\"\n",
        "        else:\n",
        "            return \"Please enter a question.\", \"\"\n",
        "    return \"\", \"\"\n",
        "\n",
        "if __name__ == '__main__':\n",
        "    app.run_server(debug=True)"
      ]
    },
    {
      "cell_type": "code",
      "execution_count": null,
      "id": "cc3177d6",
      "metadata": {
        "id": "cc3177d6"
      },
      "outputs": [],
      "source": []
    },
    {
      "cell_type": "code",
      "execution_count": null,
      "id": "d235102b",
      "metadata": {
        "id": "d235102b"
      },
      "outputs": [],
      "source": []
    },
    {
      "cell_type": "code",
      "execution_count": null,
      "id": "3ffd2e2a",
      "metadata": {
        "id": "3ffd2e2a"
      },
      "outputs": [],
      "source": []
    },
    {
      "cell_type": "code",
      "execution_count": null,
      "id": "798858a8",
      "metadata": {
        "id": "798858a8"
      },
      "outputs": [],
      "source": []
    },
    {
      "cell_type": "code",
      "execution_count": null,
      "id": "601b5c88",
      "metadata": {
        "id": "601b5c88"
      },
      "outputs": [],
      "source": []
    },
    {
      "cell_type": "code",
      "execution_count": null,
      "id": "a5426c5d",
      "metadata": {
        "id": "a5426c5d"
      },
      "outputs": [],
      "source": []
    },
    {
      "cell_type": "code",
      "execution_count": null,
      "id": "e74d5593",
      "metadata": {
        "id": "e74d5593"
      },
      "outputs": [],
      "source": []
    }
  ],
  "metadata": {
    "kernelspec": {
      "display_name": "Python 3 (ipykernel)",
      "language": "python",
      "name": "python3"
    },
    "language_info": {
      "codemirror_mode": {
        "name": "ipython",
        "version": 3
      },
      "file_extension": ".py",
      "mimetype": "text/x-python",
      "name": "python",
      "nbconvert_exporter": "python",
      "pygments_lexer": "ipython3",
      "version": "3.10.9"
    },
    "colab": {
      "provenance": [],
      "include_colab_link": true
    }
  },
  "nbformat": 4,
  "nbformat_minor": 5
}